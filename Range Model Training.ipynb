{
 "cells": [
  {
   "cell_type": "markdown",
   "id": "1b8b0445-f690-4a67-9a38-2a2ac9f84f36",
   "metadata": {},
   "source": [
    "# Model Training\n",
    "This notebook is running a convolutional neural network model on top of downloaded furniture images."
   ]
  },
  {
   "cell_type": "code",
   "execution_count": null,
   "id": "c871a355-4407-41bb-9e9e-28dec36858b0",
   "metadata": {},
   "outputs": [],
   "source": [
    "# Necessary Packages\n",
    "from io import BytesIO\n",
    "from PIL import Image\n",
    "import numpy as np\n",
    "import os\n",
    "import tensorflow as tf\n",
    "from tensorflow.keras.applications.mobilenet_v2 import MobileNetV2, preprocess_input\n",
    "from tensorflow.keras.preprocessing import image\n",
    "from tensorflow.keras.models import Model\n",
    "from tensorflow.keras.layers import Input\n",
    "from sklearn.metrics.pairwise import cosine_similarity"
   ]
  },
  {
   "cell_type": "code",
   "execution_count": null,
   "id": "a77cbd81-162d-461d-816f-06b6bd0a9ce4",
   "metadata": {},
   "outputs": [],
   "source": [
    "# Load pre-trained MobileNetV2 model without the top (classification) layer\n",
    "base_model = MobileNetV2(weights='imagenet', include_top=False, input_tensor=Input(shape=(224, 224, 3)))\n",
    "\n",
    "# Define a new model that outputs the features\n",
    "model = Model(inputs=base_model.input, outputs=base_model.layers[-1].output)\n",
    "\n",
    "def load_and_preprocess_image(image_path):\n",
    "    img = image.load_img(image_path, target_size=(224, 224))\n",
    "    img_array = image.img_to_array(img)\n",
    "    img_array = np.expand_dims(img_array, axis=0)\n",
    "    img_array = preprocess_input(img_array)\n",
    "    return img_array\n",
    "\n",
    "def extract_features(image_path, model):\n",
    "    img_array = load_and_preprocess_image(image_path)\n",
    "    features = model.predict(img_array)\n",
    "    return features.flatten()\n"
   ]
  },
  {
   "cell_type": "code",
   "execution_count": null,
   "id": "ee5a2a5d-c3ff-4792-b46c-dec36f9b49f2",
   "metadata": {},
   "outputs": [],
   "source": [
    "# Running feature extraction on downloaded images\n",
    "dataset_path = \"<Path to folder>\"\n",
    "dataset_features = []\n",
    "for filename in os.listdir(dataset_path):\n",
    "    if filename.endswith(\".jpg\"):\n",
    "        image_path = os.path.join(dataset_path, filename)\n",
    "        features = extract_features(image_path, model)\n",
    "        dataset_features.append((filename, features))\n",
    "print(\"All Done\")\n"
   ]
  },
  {
   "cell_type": "markdown",
   "id": "ead58d1d-4ab2-4833-b2ee-b4cb4003e066",
   "metadata": {},
   "source": [
    "## Example Usage\n",
    "\n",
    "Running the similarity model on an example image input."
   ]
  },
  {
   "cell_type": "code",
   "execution_count": null,
   "id": "b380de5a-1afe-4117-8c13-80cd02431e58",
   "metadata": {},
   "outputs": [],
   "source": [
    "# Example usage\n",
    "query_image_path = \"<path to folder/example_input.jpg>\"\n",
    "\n",
    "# Extract features for the query image\n",
    "query_features = extract_features(query_image_path, model)\n",
    "\n",
    "similarities = []\n",
    "for filename, features in dataset_features:\n",
    "    similarity = cosine_similarity([query_features], [features])[0][0]\n",
    "    similarities.append((filename, similarity))\n",
    "\n",
    "# Sort the images by similarity score\n",
    "similarities.sort(key=lambda x: x[1], reverse=True)"
   ]
  },
  {
   "cell_type": "markdown",
   "id": "1711e12a-df2d-4463-ac88-62d6b34d4c11",
   "metadata": {},
   "source": [
    "## Extract features of all the images on the folder\n",
    "Running feature extraction on all images based on given folder (Downloaded images)."
   ]
  },
  {
   "cell_type": "code",
   "execution_count": null,
   "id": "f77f0449-44c0-40fa-aa98-9204d953fc12",
   "metadata": {},
   "outputs": [],
   "source": [
    "# All features of active range images of Sweden\n",
    "dataset_path = \"<Path to folder>\"\n",
    "dataset_features = []\n",
    "for filename in os.listdir(dataset_path):\n",
    "    if filename.endswith(\".jpg\"):\n",
    "        image_path = os.path.join(dataset_path, filename)\n",
    "        features = extract_features(image_path, model)\n",
    "        dataset_features.append((filename, features))\n",
    "print(\"All Done\")"
   ]
  },
  {
   "cell_type": "markdown",
   "id": "cf16928d-7c74-414b-878f-9c3b9c6a0352",
   "metadata": {},
   "source": [
    "## Export to model for outer usage\n",
    "Exporting and downloading the model to be able to use it in demo script."
   ]
  },
  {
   "cell_type": "code",
   "execution_count": null,
   "id": "1443068a-518b-42d2-a063-7cbbcc6c6917",
   "metadata": {},
   "outputs": [],
   "source": [
    "# Export the model\n",
    "import joblib\n",
    "model_file = '<model_name.sav>'\n",
    "joblib.dump(model, model_file)"
   ]
  },
  {
   "cell_type": "code",
   "execution_count": null,
   "id": "d481206a-1008-4341-ae6e-b1d8dea8cc25",
   "metadata": {},
   "outputs": [],
   "source": [
    "# Save the dataset features to a file using Pickle\n",
    "# It contains image features of all images\n",
    "import pickle\n",
    "with open('image_features.pkl', 'wb') as file:\n",
    "    pickle.dump(dataset_features, file)"
   ]
  },
  {
   "cell_type": "code",
   "execution_count": null,
   "id": "20f7d4bb-9ccc-4e1d-8fc3-03713c47ae6d",
   "metadata": {},
   "outputs": [],
   "source": []
  }
 ],
 "metadata": {
  "kernelspec": {
   "display_name": "Python 3 (ipykernel)",
   "language": "python",
   "name": "python3"
  },
  "language_info": {
   "codemirror_mode": {
    "name": "ipython",
    "version": 3
   },
   "file_extension": ".py",
   "mimetype": "text/x-python",
   "name": "python",
   "nbconvert_exporter": "python",
   "pygments_lexer": "ipython3",
   "version": "3.9.8"
  }
 },
 "nbformat": 4,
 "nbformat_minor": 5
}
