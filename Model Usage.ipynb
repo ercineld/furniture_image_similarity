{
 "cells": [
  {
   "cell_type": "markdown",
   "id": "d7a4fae9-7860-48aa-8902-9d84d49a0f02",
   "metadata": {},
   "source": [
    "# Testing out image similarity\n",
    "Downloaded images on \"Range Image Downloader\" and trained the model on \"Range Model Training\" notebooks. Now it is time to use similarity model based on given input."
   ]
  },
  {
   "cell_type": "code",
   "execution_count": 1,
   "id": "4e95ea3a-020e-43e5-b602-90c5c0161d34",
   "metadata": {},
   "outputs": [
    {
     "name": "stderr",
     "output_type": "stream",
     "text": [
      "2024-01-09 14:06:47.511301: I tensorflow/core/platform/cpu_feature_guard.cc:182] This TensorFlow binary is optimized to use available CPU instructions in performance-critical operations.\n",
      "To enable the following instructions: AVX2 AVX512F AVX512_VNNI FMA, in other operations, rebuild TensorFlow with the appropriate compiler flags.\n"
     ]
    }
   ],
   "source": [
    "# Necessary Packages\n",
    "import pandas as pd\n",
    "import numpy as np\n",
    "import joblib\n",
    "from PIL import Image\n",
    "from tensorflow.keras.preprocessing import image\n",
    "from tensorflow.keras.applications.mobilenet_v2 import preprocess_input\n",
    "import pickle\n",
    "from sklearn.metrics.pairwise import cosine_similarity"
   ]
  },
  {
   "cell_type": "markdown",
   "id": "97f768c4-768c-4734-983a-8081e9fdc392",
   "metadata": {},
   "source": [
    "## Loading exported models and exported image features"
   ]
  },
  {
   "cell_type": "code",
   "execution_count": 2,
   "id": "8bca04aa-bbc3-4617-8ecd-d9368fcc9f41",
   "metadata": {},
   "outputs": [],
   "source": [
    "# Load the model from disk\n",
    "model = joblib.load(\"<path_to_folder/model_name.sav>\")\n",
    "# Load the list from the Pickle file\n",
    "with open('<path_to_folder/image_features.pkl>', 'rb') as file:\n",
    "    dataset_features = pickle.load(file)\n"
   ]
  },
  {
   "cell_type": "code",
   "execution_count": 3,
   "id": "4b73a858-1063-470c-9b90-dc44faf0d9b9",
   "metadata": {},
   "outputs": [],
   "source": [
    "# Same functions in the model training for feature extraction\n",
    "# To extract features of input images\n",
    "def load_and_preprocess_image(image_file):\n",
    "    img = image.load_img(image_file, target_size=(224, 224))\n",
    "    img_array = image.img_to_array(img)\n",
    "    img_array = np.expand_dims(img_array, axis=0)\n",
    "    img_array = preprocess_input(img_array)\n",
    "    return img_array\n",
    "\n",
    "def extract_features(image_file, model):\n",
    "    img_array = load_and_preprocess_image(image_file)\n",
    "    features = model.predict(img_array)\n",
    "    return features.flatten()"
   ]
  },
  {
   "cell_type": "code",
   "execution_count": 4,
   "id": "3e1c3b80-cc51-490d-8e46-261db01365d2",
   "metadata": {},
   "outputs": [
    {
     "name": "stdout",
     "output_type": "stream",
     "text": [
      "1/1 [==============================] - 1s 726ms/step\n"
     ]
    }
   ],
   "source": [
    "# Processing similarity model on an example input\n",
    "query_features = extract_features(\"<path to folder/example_input.jpg>\", model)"
   ]
  },
  {
   "cell_type": "code",
   "execution_count": 5,
   "id": "9e5ac805-c8eb-4109-9d63-21e6d7c2af79",
   "metadata": {},
   "outputs": [],
   "source": [
    "# Get similarity scores\n",
    "similarities = []\n",
    "for filename, features in dataset_features:\n",
    "    similarity = cosine_similarity([query_features], [features])[0][0]\n",
    "    similarities.append((filename, similarity))"
   ]
  },
  {
   "cell_type": "markdown",
   "id": "01d7db5e-3366-4db3-9ed0-a120b2532927",
   "metadata": {},
   "source": [
    "## Top 5 similar images to given input"
   ]
  },
  {
   "cell_type": "code",
   "execution_count": 6,
   "id": "47658990-7535-44c4-b239-8311a2bd7050",
   "metadata": {},
   "outputs": [
    {
     "name": "stdout",
     "output_type": "stream",
     "text": [
      "Top 1: at1.jpg, Similarity: 0.9003322124481201\n",
      "Top 2: at2.jpg, Similarity: 0.5682826638221741\n",
      "Top 3: 20395270.jpg, Similarity: 0.47226595878601074\n",
      "Top 4: 29006695.jpg, Similarity: 0.46908971667289734\n",
      "Top 5: 60260580.jpg, Similarity: 0.45500773191452026\n"
     ]
    }
   ],
   "source": [
    "# Sort the images by similarity score\n",
    "similarities.sort(key=lambda x: x[1], reverse=True)\n",
    "\n",
    "# Print the top 5 similar images\n",
    "top5 = []\n",
    "for i, (filename, similarity) in enumerate(similarities[:5]):\n",
    "    print(f\"Top {i+1}: {filename}, Similarity: {similarity}\")\n",
    "    top5.append(filename)"
   ]
  },
  {
   "cell_type": "markdown",
   "id": "90b84d82-7a78-4174-bf24-bd077788de5f",
   "metadata": {},
   "source": [
    "## Gather top similar images on a dataframe"
   ]
  },
  {
   "cell_type": "code",
   "execution_count": 21,
   "id": "d83ead7c-9bf6-426b-b431-525b15757977",
   "metadata": {},
   "outputs": [
    {
     "data": {
      "text/html": [
       "<div>\n",
       "<style scoped>\n",
       "    .dataframe tbody tr th:only-of-type {\n",
       "        vertical-align: middle;\n",
       "    }\n",
       "\n",
       "    .dataframe tbody tr th {\n",
       "        vertical-align: top;\n",
       "    }\n",
       "\n",
       "    .dataframe thead th {\n",
       "        text-align: right;\n",
       "    }\n",
       "</style>\n",
       "<table border=\"1\" class=\"dataframe\">\n",
       "  <thead>\n",
       "    <tr style=\"text-align: right;\">\n",
       "      <th></th>\n",
       "      <th>Filename</th>\n",
       "      <th>Similarity Score</th>\n",
       "    </tr>\n",
       "  </thead>\n",
       "  <tbody>\n",
       "    <tr>\n",
       "      <th>0</th>\n",
       "      <td>at1.jpg</td>\n",
       "      <td>0.900332</td>\n",
       "    </tr>\n",
       "    <tr>\n",
       "      <th>1</th>\n",
       "      <td>at2.jpg</td>\n",
       "      <td>0.568283</td>\n",
       "    </tr>\n",
       "    <tr>\n",
       "      <th>2</th>\n",
       "      <td>20395270.jpg</td>\n",
       "      <td>0.472266</td>\n",
       "    </tr>\n",
       "    <tr>\n",
       "      <th>3</th>\n",
       "      <td>29006695.jpg</td>\n",
       "      <td>0.469090</td>\n",
       "    </tr>\n",
       "    <tr>\n",
       "      <th>4</th>\n",
       "      <td>60260580.jpg</td>\n",
       "      <td>0.455008</td>\n",
       "    </tr>\n",
       "  </tbody>\n",
       "</table>\n",
       "</div>"
      ],
      "text/plain": [
       "       Filename  Similarity Score\n",
       "0       at1.jpg          0.900332\n",
       "1       at2.jpg          0.568283\n",
       "2  20395270.jpg          0.472266\n",
       "3  29006695.jpg          0.469090\n",
       "4  60260580.jpg          0.455008"
      ]
     },
     "execution_count": 21,
     "metadata": {},
     "output_type": "execute_result"
    }
   ],
   "source": [
    "names = []\n",
    "sim = []\n",
    "for i, (filename, similarity) in enumerate(similarities[:5]):\n",
    "    names.append(filename)\n",
    "    sim.append(similarity)\n",
    "\n",
    "df = pd.DataFrame({\n",
    "    'Filename': names,\n",
    "    'Similarity Score': sim\n",
    "})\n",
    "df"
   ]
  },
  {
   "cell_type": "code",
   "execution_count": null,
   "id": "bce7537c-dd57-436e-bef4-8e91767258d1",
   "metadata": {},
   "outputs": [],
   "source": []
  }
 ],
 "metadata": {
  "kernelspec": {
   "display_name": "Python 3 (ipykernel)",
   "language": "python",
   "name": "python3"
  },
  "language_info": {
   "codemirror_mode": {
    "name": "ipython",
    "version": 3
   },
   "file_extension": ".py",
   "mimetype": "text/x-python",
   "name": "python",
   "nbconvert_exporter": "python",
   "pygments_lexer": "ipython3",
   "version": "3.9.8"
  }
 },
 "nbformat": 4,
 "nbformat_minor": 5
}
