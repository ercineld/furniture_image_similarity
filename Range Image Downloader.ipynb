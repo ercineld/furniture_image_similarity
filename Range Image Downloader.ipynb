{
 "cells": [
  {
   "cell_type": "markdown",
   "id": "28ceadc1-4583-4934-88b3-77bb32f70ce1",
   "metadata": {},
   "source": [
    "# Image Downloader\n",
    "\n",
    "This notebook is querying data from a database table and downloading images from image URLs."
   ]
  },
  {
   "cell_type": "code",
   "execution_count": null,
   "id": "7ce25723-99aa-46a7-8753-0cd2e2763a87",
   "metadata": {},
   "outputs": [],
   "source": [
    "# Necessary Packages\n",
    "import pandas as pd\n",
    "import pandas_gbq\n",
    "import requests\n",
    "from io import BytesIO\n",
    "from PIL import Image\n",
    "import numpy as np\n",
    "import os\n",
    "import requests"
   ]
  },
  {
   "cell_type": "code",
   "execution_count": null,
   "id": "c9c86cf9-5b9a-424b-ae1b-9fdbacb20af7",
   "metadata": {},
   "outputs": [],
   "source": [
    "# Run a SQL query \n",
    "# Get a dataset of products from your product image table\n",
    "sql = \"\"\"\n",
    "    SELECT\n",
    "      product_id,\n",
    "      product_type,\n",
    "      max(product_image_url) AS image_url\n",
    "    FROM <Table Name>\n",
    "    GROUP BY 1, 2\n",
    "\"\"\"\n",
    "\n",
    "# Running the query on GCP\n",
    "project_id = \"<GCP Project Name>\"\n",
    "df = pandas_gbq.read_gbq(sql, project_id=project_id)\n",
    "df.head()"
   ]
  },
  {
   "cell_type": "code",
   "execution_count": null,
   "id": "f164ead1-e36a-4e39-a3ac-5e11a63da330",
   "metadata": {},
   "outputs": [],
   "source": [
    "# Function to download images with URL\n",
    "def download_image(url, output_path):\n",
    "    try:\n",
    "        response = requests.get(url)\n",
    "        if response.status_code == 200:\n",
    "            with open(output_path, 'wb') as f:\n",
    "                f.write(response.content)\n",
    "            return True\n",
    "        else:\n",
    "            return False\n",
    "    except Exception as e:\n",
    "        return False\n",
    "\n",
    "# Path to download images\n",
    "path_folder = \"<Location to download>\""
   ]
  },
  {
   "cell_type": "markdown",
   "id": "8af4fe2f-0c18-453d-8cc8-a7e887a1c8cb",
   "metadata": {},
   "source": [
    "## Error List\n",
    "Some URLs might be broken, therefore we are bucketing them on a python list."
   ]
  },
  {
   "cell_type": "code",
   "execution_count": null,
   "id": "93737aaf-1cc8-4060-9e4e-34e2b1bb2d12",
   "metadata": {},
   "outputs": [],
   "source": [
    "# Loop through unique product_ids\n",
    "error_list = []\n",
    "for product_id in df['product_id'].unique():\n",
    "    # Filter DataFrame for the current product_id\n",
    "    product_df = df[df['product_id'] == product_id]\n",
    "\n",
    "    # Try downloading images for each country record\n",
    "    image_downloaded = False\n",
    "    for index, row in product_df.iterrows():\n",
    "        image_url = row['image_url']\n",
    "        country = row['locale']\n",
    "\n",
    "        # Define the output path for the downloaded image\n",
    "        output_path = os.path.join(path_folder, f\"{product_id}_{country}.jpg\")\n",
    "\n",
    "        # Try downloading the image\n",
    "        if not image_downloaded:\n",
    "            image_downloaded = download_image(image_url, output_path)\n",
    "\n",
    "    # If no image is downloaded, add the product_id to the error list\n",
    "    if not image_downloaded:\n",
    "        error_list.append(product_id)\n",
    "\n",
    "# Display the list of product_ids with download errors\n",
    "print(\"Product IDs with download errors:\", error_list)"
   ]
  },
  {
   "cell_type": "markdown",
   "id": "6900528f-393a-43c5-82bd-3afea7540346",
   "metadata": {},
   "source": [
    "All images are downloaded onto the given path."
   ]
  },
  {
   "cell_type": "code",
   "execution_count": null,
   "id": "a377c630-9481-4080-b5ad-efd32509c668",
   "metadata": {},
   "outputs": [],
   "source": []
  },
  {
   "cell_type": "code",
   "execution_count": null,
   "id": "8be8ef78-cd2f-474c-b72f-3f9b5312c8fb",
   "metadata": {},
   "outputs": [],
   "source": [
    "# Export Query Features (Preprocessed image feaatures of range)\n",
    "from numpy import savetxt\n",
    "savetxt('range_features.csv', query_features, delimiter=',')"
   ]
  },
  {
   "cell_type": "code",
   "execution_count": null,
   "id": "85c3f3eb-a986-402f-a8c2-f44114ce8f00",
   "metadata": {},
   "outputs": [],
   "source": []
  },
  {
   "cell_type": "code",
   "execution_count": null,
   "id": "a3f84573-5a47-4e3c-9c14-d5e532a5383a",
   "metadata": {},
   "outputs": [],
   "source": []
  },
  {
   "cell_type": "code",
   "execution_count": null,
   "id": "dbf5940c-0cf6-40c7-ad60-07173198e398",
   "metadata": {},
   "outputs": [],
   "source": []
  }
 ],
 "metadata": {
  "kernelspec": {
   "display_name": "Python 3 (ipykernel)",
   "language": "python",
   "name": "python3"
  },
  "language_info": {
   "codemirror_mode": {
    "name": "ipython",
    "version": 3
   },
   "file_extension": ".py",
   "mimetype": "text/x-python",
   "name": "python",
   "nbconvert_exporter": "python",
   "pygments_lexer": "ipython3",
   "version": "3.9.8"
  }
 },
 "nbformat": 4,
 "nbformat_minor": 5
}
